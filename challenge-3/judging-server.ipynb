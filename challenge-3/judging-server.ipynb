{
 "cells": [
  {
   "cell_type": "markdown",
   "metadata": {},
   "source": [
    "# Problems\n",
    "As we all know, you are the chief judge for the upcoming Shopee Code League hosted by our favorite E-Commerce platform Shopee. You have already selected N problem from hundreds of thousand of problem from your quality Problem Bank. Since you want to make eveny contestant happy even if he/she got wrong answers on every problem drung the contest, you have decided to judge each problem on a different server.\n",
    "\n",
    "Now you have to buy N judging servers from SEA Server Limited which is a reputed company. SEA Server Limited has total S server in a row numbered from 1 to S and you have to choose N servers from these S servers. Each server has a price tag. You cannot rent these server on an hour or day basis. However, SEA limited has lifetime offer for you, if you buy any server then you get one of the adjacent servers for free if you wish, if you choose to buy the i'th server then you can get the (i-1)th and (i+1)th server for free if you want to take it for free. The contest date has tag of coming soon and the contest organizers want to know the total cost for the problem set and judging servers from you. Since you are the ultimate chief judge who want to maximize you profit and as well as make contestant happy. You have to choose N server with lowest cost possible to maximize your profit.\n",
    "\n",
    "# Input\n",
    "Input starts with an integer, denoting the number of test cases.\n",
    "Each case starts with two integers S and N. Next line contains S integers seperated by space and the i'th integer of this line represents the price tag P(i'th) of the i'th server.\n",
    "\n",
    "# Output\n",
    "For each case, print the case number and the minimum cost to buy the N servers."
   ]
  },
  {
   "cell_type": "code",
   "execution_count": 1,
   "metadata": {},
   "outputs": [],
   "source": [
    "import numpy as np"
   ]
  },
  {
   "cell_type": "code",
   "execution_count": 2,
   "metadata": {},
   "outputs": [
    {
     "name": "stdout",
     "output_type": "stream",
     "text": [
      "2\n"
     ]
    }
   ],
   "source": [
    "test_case = int(input())"
   ]
  },
  {
   "cell_type": "code",
   "execution_count": 3,
   "metadata": {},
   "outputs": [],
   "source": [
    "def lowest_price(price):\n",
    "    first=price.pop(-1)\n",
    "    del price[::2]\n",
    "    return (first+sum(price))"
   ]
  },
  {
   "cell_type": "code",
   "execution_count": 4,
   "metadata": {},
   "outputs": [
    {
     "name": "stdout",
     "output_type": "stream",
     "text": [
      "3 2\n",
      "15 14 15\n",
      "Case 1: 14\n",
      "5 3\n",
      "1000 500 30 85 100\n",
      "Case 2: 115\n"
     ]
    }
   ],
   "source": [
    "for i in range(test_case):\n",
    "    S, N = map(int, input().split())\n",
    "    price = list(map(int, input().split()))\n",
    "    \n",
    "    if len(price) != S:\n",
    "        print(\"error determining prices\")\n",
    "        break\n",
    "    else:\n",
    "        price.sort(reverse=True)\n",
    "        price=price[-N:]\n",
    "    print(\"Case \"+str(i+1)+\": \"+str(lowest_price(price)))"
   ]
  }
 ],
 "metadata": {
  "kernelspec": {
   "display_name": "Python 3",
   "language": "python",
   "name": "python3"
  },
  "language_info": {
   "codemirror_mode": {
    "name": "ipython",
    "version": 3
   },
   "file_extension": ".py",
   "mimetype": "text/x-python",
   "name": "python",
   "nbconvert_exporter": "python",
   "pygments_lexer": "ipython3",
   "version": "3.7.7"
  }
 },
 "nbformat": 4,
 "nbformat_minor": 4
}
