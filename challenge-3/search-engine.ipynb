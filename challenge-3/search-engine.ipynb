{
 "cells": [
  {
   "cell_type": "markdown",
   "metadata": {},
   "source": [
    "# Problem\n",
    "\n",
    "Who doesn't like to search and see these unexpected search suggestion floating just below the search bar. Everyone likes it! As we all know Shopee, one of the largest E-commerce platforms. also has a search bar where users can search for all kinds of item. Shopee wants to build a new search engine. And you are to help Shopee to implement this new engine.\n",
    "\n",
    "You are given a data set that contains all the item's names, and an item's name is represented as an ordered sequence of strings seperated by a single space and the strings contain only lowercase.\n",
    "\n",
    "# Input\n",
    "Input starts with an integer, denoting the number of test cases. The first line of each test case will contain two integers N and Q. Here, N is the number of items in the database and Q is the total number of queries. Each of the next N lines will contain an item name as described. Each of the rest Q lines will contain a search query as described. You can safely assume that each item's name will contain at most 10 spaces and the total length will be between 1 to 50.\n",
    "\n",
    "# Output\n",
    "For each case, print the case number in a single line. Then for each query Q print the number of different names in the database who contain the query sequence in their name in exact order."
   ]
  },
  {
   "cell_type": "code",
   "execution_count": 1,
   "metadata": {},
   "outputs": [],
   "source": [
    "import numpy as np\n",
    "import re"
   ]
  },
  {
   "cell_type": "code",
   "execution_count": 2,
   "metadata": {},
   "outputs": [
    {
     "name": "stdout",
     "output_type": "stream",
     "text": [
      "2\n"
     ]
    }
   ],
   "source": [
    "test_case=int(input())"
   ]
  },
  {
   "cell_type": "code",
   "execution_count": 3,
   "metadata": {},
   "outputs": [],
   "source": [
    "def banyak_append(num,db):\n",
    "    for i in range(num):\n",
    "        db.append(input())\n",
    "\n",
    "def search_eng(q,db):\n",
    "    match=0\n",
    "    for i in db:\n",
    "        match=match+1 if re.search(r'\\b' + q + r'\\b', i) else match\n",
    "    print(match)"
   ]
  },
  {
   "cell_type": "code",
   "execution_count": 4,
   "metadata": {},
   "outputs": [
    {
     "name": "stdout",
     "output_type": "stream",
     "text": [
      "Case 1:\n",
      "3 6\n",
      "apple lettuce limes avocado\n",
      "onion cranberries apple limes\n",
      "escarole corn apple lettuce limes avocado\n",
      "limes avocado\n",
      "2\n",
      "apple lettuce\n",
      "2\n",
      "limes\n",
      "3\n",
      "apple\n",
      "3\n",
      "app\n",
      "0\n",
      "apple limes\n",
      "1\n",
      "Case 2:\n",
      "3 3\n",
      "apple iphone se 2\n",
      "iphone 11 max pro\n",
      "iphone 11 pro max\n",
      "apple iphone\n",
      "1\n",
      "max pro\n",
      "1\n",
      "iphone\n",
      "3\n"
     ]
    }
   ],
   "source": [
    "for i in range(test_case):\n",
    "    db=[]\n",
    "    print(\"Case \"+str(i+1)+\":\")\n",
    "    num_database, num_queries = map(int, input().split())\n",
    "    banyak_append(num_database,db)\n",
    "    for j in range(num_queries):\n",
    "        q=input()\n",
    "        search_eng(q,db)"
   ]
  }
 ],
 "metadata": {
  "kernelspec": {
   "display_name": "Python 3",
   "language": "python",
   "name": "python3"
  },
  "language_info": {
   "codemirror_mode": {
    "name": "ipython",
    "version": 3
   },
   "file_extension": ".py",
   "mimetype": "text/x-python",
   "name": "python",
   "nbconvert_exporter": "python",
   "pygments_lexer": "ipython3",
   "version": "3.7.7"
  }
 },
 "nbformat": 4,
 "nbformat_minor": 4
}
