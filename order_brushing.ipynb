{
  "nbformat": 4,
  "nbformat_minor": 0,
  "metadata": {
    "colab": {
      "name": "order_brushing.ipynb",
      "provenance": [],
      "mount_file_id": "1Aa2annnswifWDrKfA_nWKzMIDNTgKaLi",
      "authorship_tag": "ABX9TyMsZREkjY9fuNqxGbDIsByp",
      "include_colab_link": true
    },
    "kernelspec": {
      "name": "python3",
      "display_name": "Python 3"
    }
  },
  "cells": [
    {
      "cell_type": "markdown",
      "metadata": {
        "id": "view-in-github",
        "colab_type": "text"
      },
      "source": [
        "<a href=\"https://colab.research.google.com/github/irfangirindra/shopee-code-league/blob/master/order_brushing.ipynb\" target=\"_parent\"><img src=\"https://colab.research.google.com/assets/colab-badge.svg\" alt=\"Open In Colab\"/></a>"
      ]
    },
    {
      "cell_type": "code",
      "metadata": {
        "id": "djjDQy-jBKt3",
        "colab_type": "code",
        "colab": {}
      },
      "source": [
        "#import library\n",
        "\n",
        "import pandas as pd\n",
        "import numpy as np\n",
        "import matplotlib.pyplot as plt"
      ],
      "execution_count": 1,
      "outputs": []
    },
    {
      "cell_type": "code",
      "metadata": {
        "id": "C9KmEZUdAYlS",
        "colab_type": "code",
        "colab": {}
      },
      "source": [
        "df = pd.read_csv('/content/drive/My Drive/Google Drive/Shopee Challenge #2/order_brush_order.csv')"
      ],
      "execution_count": 2,
      "outputs": []
    },
    {
      "cell_type": "code",
      "metadata": {
        "id": "RajxzeOTBif8",
        "colab_type": "code",
        "colab": {
          "base_uri": "https://localhost:8080/",
          "height": 419
        },
        "outputId": "8a1f6515-d4c6-464f-da0a-93e47988d63a"
      },
      "source": [
        "df"
      ],
      "execution_count": 3,
      "outputs": [
        {
          "output_type": "execute_result",
          "data": {
            "text/html": [
              "<div>\n",
              "<style scoped>\n",
              "    .dataframe tbody tr th:only-of-type {\n",
              "        vertical-align: middle;\n",
              "    }\n",
              "\n",
              "    .dataframe tbody tr th {\n",
              "        vertical-align: top;\n",
              "    }\n",
              "\n",
              "    .dataframe thead th {\n",
              "        text-align: right;\n",
              "    }\n",
              "</style>\n",
              "<table border=\"1\" class=\"dataframe\">\n",
              "  <thead>\n",
              "    <tr style=\"text-align: right;\">\n",
              "      <th></th>\n",
              "      <th>orderid</th>\n",
              "      <th>shopid</th>\n",
              "      <th>userid</th>\n",
              "      <th>event_time</th>\n",
              "    </tr>\n",
              "  </thead>\n",
              "  <tbody>\n",
              "    <tr>\n",
              "      <th>0</th>\n",
              "      <td>31076582227611</td>\n",
              "      <td>93950878</td>\n",
              "      <td>30530270</td>\n",
              "      <td>2019-12-27 00:23:03</td>\n",
              "    </tr>\n",
              "    <tr>\n",
              "      <th>1</th>\n",
              "      <td>31118059853484</td>\n",
              "      <td>156423439</td>\n",
              "      <td>46057927</td>\n",
              "      <td>2019-12-27 11:54:20</td>\n",
              "    </tr>\n",
              "    <tr>\n",
              "      <th>2</th>\n",
              "      <td>31123355095755</td>\n",
              "      <td>173699291</td>\n",
              "      <td>67341739</td>\n",
              "      <td>2019-12-27 13:22:35</td>\n",
              "    </tr>\n",
              "    <tr>\n",
              "      <th>3</th>\n",
              "      <td>31122059872723</td>\n",
              "      <td>63674025</td>\n",
              "      <td>149380322</td>\n",
              "      <td>2019-12-27 13:01:00</td>\n",
              "    </tr>\n",
              "    <tr>\n",
              "      <th>4</th>\n",
              "      <td>31117075665123</td>\n",
              "      <td>127249066</td>\n",
              "      <td>149493217</td>\n",
              "      <td>2019-12-27 11:37:55</td>\n",
              "    </tr>\n",
              "    <tr>\n",
              "      <th>...</th>\n",
              "      <td>...</td>\n",
              "      <td>...</td>\n",
              "      <td>...</td>\n",
              "      <td>...</td>\n",
              "    </tr>\n",
              "    <tr>\n",
              "      <th>222745</th>\n",
              "      <td>31245479170194</td>\n",
              "      <td>110868129</td>\n",
              "      <td>193218997</td>\n",
              "      <td>2019-12-28 23:17:59</td>\n",
              "    </tr>\n",
              "    <tr>\n",
              "      <th>222746</th>\n",
              "      <td>31230440360374</td>\n",
              "      <td>91639906</td>\n",
              "      <td>3541807</td>\n",
              "      <td>2019-12-28 19:07:20</td>\n",
              "    </tr>\n",
              "    <tr>\n",
              "      <th>222747</th>\n",
              "      <td>31191471145838</td>\n",
              "      <td>29391773</td>\n",
              "      <td>135908070</td>\n",
              "      <td>2019-12-28 08:17:52</td>\n",
              "    </tr>\n",
              "    <tr>\n",
              "      <th>222748</th>\n",
              "      <td>31198471732255</td>\n",
              "      <td>61556313</td>\n",
              "      <td>27306783</td>\n",
              "      <td>2019-12-28 10:14:31</td>\n",
              "    </tr>\n",
              "    <tr>\n",
              "      <th>222749</th>\n",
              "      <td>31164356713822</td>\n",
              "      <td>147941492</td>\n",
              "      <td>127484153</td>\n",
              "      <td>2019-12-28 00:45:56</td>\n",
              "    </tr>\n",
              "  </tbody>\n",
              "</table>\n",
              "<p>222750 rows × 4 columns</p>\n",
              "</div>"
            ],
            "text/plain": [
              "               orderid     shopid     userid           event_time\n",
              "0       31076582227611   93950878   30530270  2019-12-27 00:23:03\n",
              "1       31118059853484  156423439   46057927  2019-12-27 11:54:20\n",
              "2       31123355095755  173699291   67341739  2019-12-27 13:22:35\n",
              "3       31122059872723   63674025  149380322  2019-12-27 13:01:00\n",
              "4       31117075665123  127249066  149493217  2019-12-27 11:37:55\n",
              "...                ...        ...        ...                  ...\n",
              "222745  31245479170194  110868129  193218997  2019-12-28 23:17:59\n",
              "222746  31230440360374   91639906    3541807  2019-12-28 19:07:20\n",
              "222747  31191471145838   29391773  135908070  2019-12-28 08:17:52\n",
              "222748  31198471732255   61556313   27306783  2019-12-28 10:14:31\n",
              "222749  31164356713822  147941492  127484153  2019-12-28 00:45:56\n",
              "\n",
              "[222750 rows x 4 columns]"
            ]
          },
          "metadata": {
            "tags": []
          },
          "execution_count": 3
        }
      ]
    },
    {
      "cell_type": "code",
      "metadata": {
        "id": "-6w1IUbvBjRT",
        "colab_type": "code",
        "colab": {}
      },
      "source": [
        "df_bytime = df.sort_values(by=['event_time'])"
      ],
      "execution_count": 4,
      "outputs": []
    },
    {
      "cell_type": "code",
      "metadata": {
        "id": "IMBFt7CoBQg-",
        "colab_type": "code",
        "colab": {
          "base_uri": "https://localhost:8080/",
          "height": 419
        },
        "outputId": "2e741fc1-5bd0-46e9-d556-afef0130a763"
      },
      "source": [
        "df_bytime"
      ],
      "execution_count": 5,
      "outputs": [
        {
          "output_type": "execute_result",
          "data": {
            "text/html": [
              "<div>\n",
              "<style scoped>\n",
              "    .dataframe tbody tr th:only-of-type {\n",
              "        vertical-align: middle;\n",
              "    }\n",
              "\n",
              "    .dataframe tbody tr th {\n",
              "        vertical-align: top;\n",
              "    }\n",
              "\n",
              "    .dataframe thead th {\n",
              "        text-align: right;\n",
              "    }\n",
              "</style>\n",
              "<table border=\"1\" class=\"dataframe\">\n",
              "  <thead>\n",
              "    <tr style=\"text-align: right;\">\n",
              "      <th></th>\n",
              "      <th>orderid</th>\n",
              "      <th>shopid</th>\n",
              "      <th>userid</th>\n",
              "      <th>event_time</th>\n",
              "    </tr>\n",
              "  </thead>\n",
              "  <tbody>\n",
              "    <tr>\n",
              "      <th>150060</th>\n",
              "      <td>31075200506751</td>\n",
              "      <td>6042309</td>\n",
              "      <td>97707522</td>\n",
              "      <td>2019-12-27 00:00:00</td>\n",
              "    </tr>\n",
              "    <tr>\n",
              "      <th>25985</th>\n",
              "      <td>31075200506752</td>\n",
              "      <td>104804492</td>\n",
              "      <td>97707522</td>\n",
              "      <td>2019-12-27 00:00:00</td>\n",
              "    </tr>\n",
              "    <tr>\n",
              "      <th>81020</th>\n",
              "      <td>31075200506753</td>\n",
              "      <td>8715449</td>\n",
              "      <td>97707522</td>\n",
              "      <td>2019-12-27 00:00:00</td>\n",
              "    </tr>\n",
              "    <tr>\n",
              "      <th>146598</th>\n",
              "      <td>31075201870570</td>\n",
              "      <td>190969466</td>\n",
              "      <td>170182475</td>\n",
              "      <td>2019-12-27 00:00:02</td>\n",
              "    </tr>\n",
              "    <tr>\n",
              "      <th>80355</th>\n",
              "      <td>31075205798264</td>\n",
              "      <td>2859407</td>\n",
              "      <td>12532131</td>\n",
              "      <td>2019-12-27 00:00:05</td>\n",
              "    </tr>\n",
              "    <tr>\n",
              "      <th>...</th>\n",
              "      <td>...</td>\n",
              "      <td>...</td>\n",
              "      <td>...</td>\n",
              "      <td>...</td>\n",
              "    </tr>\n",
              "    <tr>\n",
              "      <th>114113</th>\n",
              "      <td>31507183252446</td>\n",
              "      <td>149254894</td>\n",
              "      <td>193333760</td>\n",
              "      <td>2019-12-31 23:59:43</td>\n",
              "    </tr>\n",
              "    <tr>\n",
              "      <th>206585</th>\n",
              "      <td>31507187390691</td>\n",
              "      <td>147941492</td>\n",
              "      <td>40258063</td>\n",
              "      <td>2019-12-31 23:59:47</td>\n",
              "    </tr>\n",
              "    <tr>\n",
              "      <th>126212</th>\n",
              "      <td>31507191066628</td>\n",
              "      <td>187123853</td>\n",
              "      <td>2338306</td>\n",
              "      <td>2019-12-31 23:59:51</td>\n",
              "    </tr>\n",
              "    <tr>\n",
              "      <th>160657</th>\n",
              "      <td>31507191066627</td>\n",
              "      <td>154074176</td>\n",
              "      <td>2338306</td>\n",
              "      <td>2019-12-31 23:59:51</td>\n",
              "    </tr>\n",
              "    <tr>\n",
              "      <th>179881</th>\n",
              "      <td>31507196146800</td>\n",
              "      <td>31844790</td>\n",
              "      <td>95161930</td>\n",
              "      <td>2019-12-31 23:59:56</td>\n",
              "    </tr>\n",
              "  </tbody>\n",
              "</table>\n",
              "<p>222750 rows × 4 columns</p>\n",
              "</div>"
            ],
            "text/plain": [
              "               orderid     shopid     userid           event_time\n",
              "150060  31075200506751    6042309   97707522  2019-12-27 00:00:00\n",
              "25985   31075200506752  104804492   97707522  2019-12-27 00:00:00\n",
              "81020   31075200506753    8715449   97707522  2019-12-27 00:00:00\n",
              "146598  31075201870570  190969466  170182475  2019-12-27 00:00:02\n",
              "80355   31075205798264    2859407   12532131  2019-12-27 00:00:05\n",
              "...                ...        ...        ...                  ...\n",
              "114113  31507183252446  149254894  193333760  2019-12-31 23:59:43\n",
              "206585  31507187390691  147941492   40258063  2019-12-31 23:59:47\n",
              "126212  31507191066628  187123853    2338306  2019-12-31 23:59:51\n",
              "160657  31507191066627  154074176    2338306  2019-12-31 23:59:51\n",
              "179881  31507196146800   31844790   95161930  2019-12-31 23:59:56\n",
              "\n",
              "[222750 rows x 4 columns]"
            ]
          },
          "metadata": {
            "tags": []
          },
          "execution_count": 5
        }
      ]
    },
    {
      "cell_type": "code",
      "metadata": {
        "id": "ciQF02vuB3se",
        "colab_type": "code",
        "colab": {}
      },
      "source": [
        "time_index = df_bytime.set_index(['event_time'])"
      ],
      "execution_count": 6,
      "outputs": []
    },
    {
      "cell_type": "code",
      "metadata": {
        "id": "I7EqCAKxB-FX",
        "colab_type": "code",
        "colab": {
          "base_uri": "https://localhost:8080/",
          "height": 450
        },
        "outputId": "f869de94-106c-414f-c7ea-bc34fa2f556a"
      },
      "source": [
        "time_index"
      ],
      "execution_count": 7,
      "outputs": [
        {
          "output_type": "execute_result",
          "data": {
            "text/html": [
              "<div>\n",
              "<style scoped>\n",
              "    .dataframe tbody tr th:only-of-type {\n",
              "        vertical-align: middle;\n",
              "    }\n",
              "\n",
              "    .dataframe tbody tr th {\n",
              "        vertical-align: top;\n",
              "    }\n",
              "\n",
              "    .dataframe thead th {\n",
              "        text-align: right;\n",
              "    }\n",
              "</style>\n",
              "<table border=\"1\" class=\"dataframe\">\n",
              "  <thead>\n",
              "    <tr style=\"text-align: right;\">\n",
              "      <th></th>\n",
              "      <th>orderid</th>\n",
              "      <th>shopid</th>\n",
              "      <th>userid</th>\n",
              "    </tr>\n",
              "    <tr>\n",
              "      <th>event_time</th>\n",
              "      <th></th>\n",
              "      <th></th>\n",
              "      <th></th>\n",
              "    </tr>\n",
              "  </thead>\n",
              "  <tbody>\n",
              "    <tr>\n",
              "      <th>2019-12-27 00:00:00</th>\n",
              "      <td>31075200506751</td>\n",
              "      <td>6042309</td>\n",
              "      <td>97707522</td>\n",
              "    </tr>\n",
              "    <tr>\n",
              "      <th>2019-12-27 00:00:00</th>\n",
              "      <td>31075200506752</td>\n",
              "      <td>104804492</td>\n",
              "      <td>97707522</td>\n",
              "    </tr>\n",
              "    <tr>\n",
              "      <th>2019-12-27 00:00:00</th>\n",
              "      <td>31075200506753</td>\n",
              "      <td>8715449</td>\n",
              "      <td>97707522</td>\n",
              "    </tr>\n",
              "    <tr>\n",
              "      <th>2019-12-27 00:00:02</th>\n",
              "      <td>31075201870570</td>\n",
              "      <td>190969466</td>\n",
              "      <td>170182475</td>\n",
              "    </tr>\n",
              "    <tr>\n",
              "      <th>2019-12-27 00:00:05</th>\n",
              "      <td>31075205798264</td>\n",
              "      <td>2859407</td>\n",
              "      <td>12532131</td>\n",
              "    </tr>\n",
              "    <tr>\n",
              "      <th>...</th>\n",
              "      <td>...</td>\n",
              "      <td>...</td>\n",
              "      <td>...</td>\n",
              "    </tr>\n",
              "    <tr>\n",
              "      <th>2019-12-31 23:59:43</th>\n",
              "      <td>31507183252446</td>\n",
              "      <td>149254894</td>\n",
              "      <td>193333760</td>\n",
              "    </tr>\n",
              "    <tr>\n",
              "      <th>2019-12-31 23:59:47</th>\n",
              "      <td>31507187390691</td>\n",
              "      <td>147941492</td>\n",
              "      <td>40258063</td>\n",
              "    </tr>\n",
              "    <tr>\n",
              "      <th>2019-12-31 23:59:51</th>\n",
              "      <td>31507191066628</td>\n",
              "      <td>187123853</td>\n",
              "      <td>2338306</td>\n",
              "    </tr>\n",
              "    <tr>\n",
              "      <th>2019-12-31 23:59:51</th>\n",
              "      <td>31507191066627</td>\n",
              "      <td>154074176</td>\n",
              "      <td>2338306</td>\n",
              "    </tr>\n",
              "    <tr>\n",
              "      <th>2019-12-31 23:59:56</th>\n",
              "      <td>31507196146800</td>\n",
              "      <td>31844790</td>\n",
              "      <td>95161930</td>\n",
              "    </tr>\n",
              "  </tbody>\n",
              "</table>\n",
              "<p>222750 rows × 3 columns</p>\n",
              "</div>"
            ],
            "text/plain": [
              "                            orderid     shopid     userid\n",
              "event_time                                               \n",
              "2019-12-27 00:00:00  31075200506751    6042309   97707522\n",
              "2019-12-27 00:00:00  31075200506752  104804492   97707522\n",
              "2019-12-27 00:00:00  31075200506753    8715449   97707522\n",
              "2019-12-27 00:00:02  31075201870570  190969466  170182475\n",
              "2019-12-27 00:00:05  31075205798264    2859407   12532131\n",
              "...                             ...        ...        ...\n",
              "2019-12-31 23:59:43  31507183252446  149254894  193333760\n",
              "2019-12-31 23:59:47  31507187390691  147941492   40258063\n",
              "2019-12-31 23:59:51  31507191066628  187123853    2338306\n",
              "2019-12-31 23:59:51  31507191066627  154074176    2338306\n",
              "2019-12-31 23:59:56  31507196146800   31844790   95161930\n",
              "\n",
              "[222750 rows x 3 columns]"
            ]
          },
          "metadata": {
            "tags": []
          },
          "execution_count": 7
        }
      ]
    },
    {
      "cell_type": "code",
      "metadata": {
        "id": "_a_kdmWaB-vT",
        "colab_type": "code",
        "colab": {}
      },
      "source": [
        "time_start = pd.to_datetime(df_bytime.event_time.unique())"
      ],
      "execution_count": 8,
      "outputs": []
    },
    {
      "cell_type": "code",
      "metadata": {
        "id": "U3Szq8olCM-j",
        "colab_type": "code",
        "colab": {
          "base_uri": "https://localhost:8080/",
          "height": 233
        },
        "outputId": "4dfbd532-cfcb-4dce-8457-1cdc3fd91ed5"
      },
      "source": [
        "time_start"
      ],
      "execution_count": 9,
      "outputs": [
        {
          "output_type": "execute_result",
          "data": {
            "text/plain": [
              "DatetimeIndex(['2019-12-27 00:00:00', '2019-12-27 00:00:02',\n",
              "               '2019-12-27 00:00:05', '2019-12-27 00:00:08',\n",
              "               '2019-12-27 00:00:11', '2019-12-27 00:00:12',\n",
              "               '2019-12-27 00:00:16', '2019-12-27 00:00:18',\n",
              "               '2019-12-27 00:00:23', '2019-12-27 00:00:24',\n",
              "               ...\n",
              "               '2019-12-31 23:59:30', '2019-12-31 23:59:32',\n",
              "               '2019-12-31 23:59:38', '2019-12-31 23:59:39',\n",
              "               '2019-12-31 23:59:41', '2019-12-31 23:59:42',\n",
              "               '2019-12-31 23:59:43', '2019-12-31 23:59:47',\n",
              "               '2019-12-31 23:59:51', '2019-12-31 23:59:56'],\n",
              "              dtype='datetime64[ns]', length=121064, freq=None)"
            ]
          },
          "metadata": {
            "tags": []
          },
          "execution_count": 9
        }
      ]
    },
    {
      "cell_type": "code",
      "metadata": {
        "id": "X3--wIxZCOId",
        "colab_type": "code",
        "colab": {}
      },
      "source": [
        "time_end = time_start + pd.Timedelta(hours=1)"
      ],
      "execution_count": 10,
      "outputs": []
    },
    {
      "cell_type": "code",
      "metadata": {
        "id": "Vi_7DL8NCXWq",
        "colab_type": "code",
        "colab": {
          "base_uri": "https://localhost:8080/",
          "height": 233
        },
        "outputId": "d8c2c0f4-1d70-42f9-ba22-bed0ab3a1765"
      },
      "source": [
        "time_end"
      ],
      "execution_count": 11,
      "outputs": [
        {
          "output_type": "execute_result",
          "data": {
            "text/plain": [
              "DatetimeIndex(['2019-12-27 01:00:00', '2019-12-27 01:00:02',\n",
              "               '2019-12-27 01:00:05', '2019-12-27 01:00:08',\n",
              "               '2019-12-27 01:00:11', '2019-12-27 01:00:12',\n",
              "               '2019-12-27 01:00:16', '2019-12-27 01:00:18',\n",
              "               '2019-12-27 01:00:23', '2019-12-27 01:00:24',\n",
              "               ...\n",
              "               '2020-01-01 00:59:30', '2020-01-01 00:59:32',\n",
              "               '2020-01-01 00:59:38', '2020-01-01 00:59:39',\n",
              "               '2020-01-01 00:59:41', '2020-01-01 00:59:42',\n",
              "               '2020-01-01 00:59:43', '2020-01-01 00:59:47',\n",
              "               '2020-01-01 00:59:51', '2020-01-01 00:59:56'],\n",
              "              dtype='datetime64[ns]', length=121064, freq=None)"
            ]
          },
          "metadata": {
            "tags": []
          },
          "execution_count": 11
        }
      ]
    },
    {
      "cell_type": "code",
      "metadata": {
        "id": "Xe_mFy6BClJa",
        "colab_type": "code",
        "colab": {}
      },
      "source": [
        "shop=[]\n",
        "user=[]\n",
        "for i in range(len(time_start)):\n",
        "  time_cut = time_index[str(time_start[i]):str(time_end[i])]\n",
        "  time_cut_group = time_cut.groupby('shopid').nunique()\n",
        "  time_cut_group['con']=time_cut_group['orderid']/time_cut_group['userid']\n",
        "  time_cut_group=time_cut_group.drop(time_cut_group[time_cut_group['con']<3].index)\n",
        "  shop_scam = time_cut_group.index.values\n",
        "  if len(shop_scam) != 0:\n",
        "    for j in shop_scam:\n",
        "      if j not in shop:\n",
        "        get_userid = time_cut[time_cut['shopid']== j]['userid'].unique()\n",
        "        get_combine_userid = '&'.join(str(k) for k in get_userid)\n",
        "        shop.append(j)\n",
        "        user.append(get_combine_userid)"
      ],
      "execution_count": 15,
      "outputs": []
    },
    {
      "cell_type": "code",
      "metadata": {
        "id": "qEBwWK-befsb",
        "colab_type": "code",
        "colab": {}
      },
      "source": [
        "order_brushing = pd.DataFrame( {'shopid': shop, 'userid': user })"
      ],
      "execution_count": 24,
      "outputs": []
    },
    {
      "cell_type": "code",
      "metadata": {
        "id": "4LBHKufked5O",
        "colab_type": "code",
        "colab": {
          "base_uri": "https://localhost:8080/",
          "height": 419
        },
        "outputId": "55b63dc4-8786-40a8-c229-f53bed6b4821"
      },
      "source": [
        "order_brushing"
      ],
      "execution_count": 25,
      "outputs": [
        {
          "output_type": "execute_result",
          "data": {
            "text/html": [
              "<div>\n",
              "<style scoped>\n",
              "    .dataframe tbody tr th:only-of-type {\n",
              "        vertical-align: middle;\n",
              "    }\n",
              "\n",
              "    .dataframe tbody tr th {\n",
              "        vertical-align: top;\n",
              "    }\n",
              "\n",
              "    .dataframe thead th {\n",
              "        text-align: right;\n",
              "    }\n",
              "</style>\n",
              "<table border=\"1\" class=\"dataframe\">\n",
              "  <thead>\n",
              "    <tr style=\"text-align: right;\">\n",
              "      <th></th>\n",
              "      <th>shopid</th>\n",
              "      <th>userid</th>\n",
              "    </tr>\n",
              "  </thead>\n",
              "  <tbody>\n",
              "    <tr>\n",
              "      <th>0</th>\n",
              "      <td>141025402</td>\n",
              "      <td>613919</td>\n",
              "    </tr>\n",
              "    <tr>\n",
              "      <th>1</th>\n",
              "      <td>181009364</td>\n",
              "      <td>214208720</td>\n",
              "    </tr>\n",
              "    <tr>\n",
              "      <th>2</th>\n",
              "      <td>63888299</td>\n",
              "      <td>112649507</td>\n",
              "    </tr>\n",
              "    <tr>\n",
              "      <th>3</th>\n",
              "      <td>9374147</td>\n",
              "      <td>148176353</td>\n",
              "    </tr>\n",
              "    <tr>\n",
              "      <th>4</th>\n",
              "      <td>192608876</td>\n",
              "      <td>213646699</td>\n",
              "    </tr>\n",
              "    <tr>\n",
              "      <th>...</th>\n",
              "      <td>...</td>\n",
              "      <td>...</td>\n",
              "    </tr>\n",
              "    <tr>\n",
              "      <th>310</th>\n",
              "      <td>130665582</td>\n",
              "      <td>141499072</td>\n",
              "    </tr>\n",
              "    <tr>\n",
              "      <th>311</th>\n",
              "      <td>93295101</td>\n",
              "      <td>39834931</td>\n",
              "    </tr>\n",
              "    <tr>\n",
              "      <th>312</th>\n",
              "      <td>9153340</td>\n",
              "      <td>197569856</td>\n",
              "    </tr>\n",
              "    <tr>\n",
              "      <th>313</th>\n",
              "      <td>189544563</td>\n",
              "      <td>799445</td>\n",
              "    </tr>\n",
              "    <tr>\n",
              "      <th>314</th>\n",
              "      <td>96757644</td>\n",
              "      <td>215243653</td>\n",
              "    </tr>\n",
              "  </tbody>\n",
              "</table>\n",
              "<p>315 rows × 2 columns</p>\n",
              "</div>"
            ],
            "text/plain": [
              "        shopid     userid\n",
              "0    141025402     613919\n",
              "1    181009364  214208720\n",
              "2     63888299  112649507\n",
              "3      9374147  148176353\n",
              "4    192608876  213646699\n",
              "..         ...        ...\n",
              "310  130665582  141499072\n",
              "311   93295101   39834931\n",
              "312    9153340  197569856\n",
              "313  189544563     799445\n",
              "314   96757644  215243653\n",
              "\n",
              "[315 rows x 2 columns]"
            ]
          },
          "metadata": {
            "tags": []
          },
          "execution_count": 25
        }
      ]
    },
    {
      "cell_type": "code",
      "metadata": {
        "id": "HswtYogmgdZF",
        "colab_type": "code",
        "colab": {}
      },
      "source": [
        "submission2 = pd.DataFrame({'shopid':df.shopid.unique()})"
      ],
      "execution_count": 32,
      "outputs": []
    },
    {
      "cell_type": "code",
      "metadata": {
        "id": "Z3e8dFm-gBWX",
        "colab_type": "code",
        "colab": {
          "base_uri": "https://localhost:8080/",
          "height": 419
        },
        "outputId": "aa03c24c-cc3b-4ee0-9867-cac19197d953"
      },
      "source": [
        "submission2"
      ],
      "execution_count": 33,
      "outputs": [
        {
          "output_type": "execute_result",
          "data": {
            "text/html": [
              "<div>\n",
              "<style scoped>\n",
              "    .dataframe tbody tr th:only-of-type {\n",
              "        vertical-align: middle;\n",
              "    }\n",
              "\n",
              "    .dataframe tbody tr th {\n",
              "        vertical-align: top;\n",
              "    }\n",
              "\n",
              "    .dataframe thead th {\n",
              "        text-align: right;\n",
              "    }\n",
              "</style>\n",
              "<table border=\"1\" class=\"dataframe\">\n",
              "  <thead>\n",
              "    <tr style=\"text-align: right;\">\n",
              "      <th></th>\n",
              "      <th>shopid</th>\n",
              "    </tr>\n",
              "  </thead>\n",
              "  <tbody>\n",
              "    <tr>\n",
              "      <th>0</th>\n",
              "      <td>93950878</td>\n",
              "    </tr>\n",
              "    <tr>\n",
              "      <th>1</th>\n",
              "      <td>156423439</td>\n",
              "    </tr>\n",
              "    <tr>\n",
              "      <th>2</th>\n",
              "      <td>173699291</td>\n",
              "    </tr>\n",
              "    <tr>\n",
              "      <th>3</th>\n",
              "      <td>63674025</td>\n",
              "    </tr>\n",
              "    <tr>\n",
              "      <th>4</th>\n",
              "      <td>127249066</td>\n",
              "    </tr>\n",
              "    <tr>\n",
              "      <th>...</th>\n",
              "      <td>...</td>\n",
              "    </tr>\n",
              "    <tr>\n",
              "      <th>18765</th>\n",
              "      <td>163337224</td>\n",
              "    </tr>\n",
              "    <tr>\n",
              "      <th>18766</th>\n",
              "      <td>772599</td>\n",
              "    </tr>\n",
              "    <tr>\n",
              "      <th>18767</th>\n",
              "      <td>50236030</td>\n",
              "    </tr>\n",
              "    <tr>\n",
              "      <th>18768</th>\n",
              "      <td>203587596</td>\n",
              "    </tr>\n",
              "    <tr>\n",
              "      <th>18769</th>\n",
              "      <td>147118226</td>\n",
              "    </tr>\n",
              "  </tbody>\n",
              "</table>\n",
              "<p>18770 rows × 1 columns</p>\n",
              "</div>"
            ],
            "text/plain": [
              "          shopid\n",
              "0       93950878\n",
              "1      156423439\n",
              "2      173699291\n",
              "3       63674025\n",
              "4      127249066\n",
              "...          ...\n",
              "18765  163337224\n",
              "18766     772599\n",
              "18767   50236030\n",
              "18768  203587596\n",
              "18769  147118226\n",
              "\n",
              "[18770 rows x 1 columns]"
            ]
          },
          "metadata": {
            "tags": []
          },
          "execution_count": 33
        }
      ]
    },
    {
      "cell_type": "code",
      "metadata": {
        "id": "-8fSajtVguE6",
        "colab_type": "code",
        "colab": {}
      },
      "source": [
        "submission_final = submission2.join(order_brushing.set_index('shopid'), on='shopid').fillna(\"0\")"
      ],
      "execution_count": 37,
      "outputs": []
    },
    {
      "cell_type": "code",
      "metadata": {
        "id": "1HPReqxmiJmc",
        "colab_type": "code",
        "colab": {
          "base_uri": "https://localhost:8080/",
          "height": 419
        },
        "outputId": "97a149bf-63d8-4caf-fa63-7354d969f91d"
      },
      "source": [
        "submission_final"
      ],
      "execution_count": 41,
      "outputs": [
        {
          "output_type": "execute_result",
          "data": {
            "text/html": [
              "<div>\n",
              "<style scoped>\n",
              "    .dataframe tbody tr th:only-of-type {\n",
              "        vertical-align: middle;\n",
              "    }\n",
              "\n",
              "    .dataframe tbody tr th {\n",
              "        vertical-align: top;\n",
              "    }\n",
              "\n",
              "    .dataframe thead th {\n",
              "        text-align: right;\n",
              "    }\n",
              "</style>\n",
              "<table border=\"1\" class=\"dataframe\">\n",
              "  <thead>\n",
              "    <tr style=\"text-align: right;\">\n",
              "      <th></th>\n",
              "      <th>shopid</th>\n",
              "      <th>userid</th>\n",
              "    </tr>\n",
              "  </thead>\n",
              "  <tbody>\n",
              "    <tr>\n",
              "      <th>0</th>\n",
              "      <td>93950878</td>\n",
              "      <td>0</td>\n",
              "    </tr>\n",
              "    <tr>\n",
              "      <th>1</th>\n",
              "      <td>156423439</td>\n",
              "      <td>0</td>\n",
              "    </tr>\n",
              "    <tr>\n",
              "      <th>2</th>\n",
              "      <td>173699291</td>\n",
              "      <td>0</td>\n",
              "    </tr>\n",
              "    <tr>\n",
              "      <th>3</th>\n",
              "      <td>63674025</td>\n",
              "      <td>0</td>\n",
              "    </tr>\n",
              "    <tr>\n",
              "      <th>4</th>\n",
              "      <td>127249066</td>\n",
              "      <td>0</td>\n",
              "    </tr>\n",
              "    <tr>\n",
              "      <th>...</th>\n",
              "      <td>...</td>\n",
              "      <td>...</td>\n",
              "    </tr>\n",
              "    <tr>\n",
              "      <th>18765</th>\n",
              "      <td>163337224</td>\n",
              "      <td>0</td>\n",
              "    </tr>\n",
              "    <tr>\n",
              "      <th>18766</th>\n",
              "      <td>772599</td>\n",
              "      <td>0</td>\n",
              "    </tr>\n",
              "    <tr>\n",
              "      <th>18767</th>\n",
              "      <td>50236030</td>\n",
              "      <td>0</td>\n",
              "    </tr>\n",
              "    <tr>\n",
              "      <th>18768</th>\n",
              "      <td>203587596</td>\n",
              "      <td>0</td>\n",
              "    </tr>\n",
              "    <tr>\n",
              "      <th>18769</th>\n",
              "      <td>147118226</td>\n",
              "      <td>0</td>\n",
              "    </tr>\n",
              "  </tbody>\n",
              "</table>\n",
              "<p>18770 rows × 2 columns</p>\n",
              "</div>"
            ],
            "text/plain": [
              "          shopid userid\n",
              "0       93950878      0\n",
              "1      156423439      0\n",
              "2      173699291      0\n",
              "3       63674025      0\n",
              "4      127249066      0\n",
              "...          ...    ...\n",
              "18765  163337224      0\n",
              "18766     772599      0\n",
              "18767   50236030      0\n",
              "18768  203587596      0\n",
              "18769  147118226      0\n",
              "\n",
              "[18770 rows x 2 columns]"
            ]
          },
          "metadata": {
            "tags": []
          },
          "execution_count": 41
        }
      ]
    },
    {
      "cell_type": "code",
      "metadata": {
        "id": "ubzma_dyhnrv",
        "colab_type": "code",
        "colab": {}
      },
      "source": [
        "submission_final.to_csv('submission.csv')"
      ],
      "execution_count": 40,
      "outputs": []
    }
  ]
}